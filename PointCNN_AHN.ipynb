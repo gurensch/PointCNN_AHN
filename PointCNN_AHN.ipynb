{
 "cells": [
  {
   "cell_type": "code",
   "execution_count": 2,
   "metadata": {},
   "outputs": [],
   "source": [
    "# Import functions & classes\n",
    "# 'export_point_dataset' and 'prepare_data' for data preparation\n",
    "# 'PointCNN' is the PointCNN class which is used for the model initialisation\n",
    "from arcgis.learn import export_point_dataset\n",
    "from arcgis.learn import prepare_data\n",
    "from arcgis.learn import PointCNN"
   ]
  },
  {
   "cell_type": "code",
   "execution_count": 3,
   "metadata": {},
   "outputs": [],
   "source": [
    "# the folder data_path should direct to the .las files used in the training. The data should be split in a train folder (for the training data) and a val folder (for the validation)\n",
    "# the folder output_path should direct to an empty folder\n",
    "data_path = r'.....\\training_data'\n",
    "output_path = r'.....\\h3_blocks_output'"
   ]
  },
  {
   "cell_type": "code",
   "execution_count": 4,
   "metadata": {
    "scrolled": true
   },
   "outputs": [
    {
     "data": {
      "text/html": [],
      "text/plain": [
       "<IPython.core.display.HTML object>"
      ]
     },
     "metadata": {},
     "output_type": "display_data"
    },
    {
     "data": {
      "text/html": [],
      "text/plain": [
       "<IPython.core.display.HTML object>"
      ]
     },
     "metadata": {},
     "output_type": "display_data"
    },
    {
     "name": "stdout",
     "output_type": "stream",
     "text": [
      "Export finished.\n"
     ]
    }
   ],
   "source": [
    "# this method creates h5 blocks that are used in the trining of the PointCNN model from the raw .las training data\n",
    "export_point_dataset(data_path, output_path, 50.0, 8192)"
   ]
  },
  {
   "cell_type": "code",
   "execution_count": 5,
   "metadata": {},
   "outputs": [],
   "source": [
    "# a colormap is initiated to correspond with the classes of the training point cloud datae (1, 2, 6, 9, and 26 in this case)\n",
    "colormap = {'1':[220,220,220], '2':[255,0,0], '6':[0,255,0], '9':[0,0,255], '26':[51,204,204]}"
   ]
  },
  {
   "cell_type": "code",
   "execution_count": 6,
   "metadata": {},
   "outputs": [],
   "source": [
    "# the prepare_data method further prepares the data for training, determining the dataset type, batch size, and colormap\n",
    "data = prepare_data(output_path, dataset_type='PointCloud', batch_size=4, color_mapping=colormap)"
   ]
  },
  {
   "cell_type": "code",
   "execution_count": 7,
   "metadata": {},
   "outputs": [],
   "source": [
    "# initiation of the PointCNN model \n",
    "pointcnn = PointCNN(data)"
   ]
  },
  {
   "cell_type": "code",
   "execution_count": 8,
   "metadata": {
    "scrolled": true
   },
   "outputs": [
    {
     "data": {
      "text/html": [
       "<table border=\"1\" class=\"dataframe\">\n",
       "  <thead>\n",
       "    <tr style=\"text-align: left;\">\n",
       "      <th>epoch</th>\n",
       "      <th>train_loss</th>\n",
       "      <th>valid_loss</th>\n",
       "      <th>accuracy</th>\n",
       "      <th>time</th>\n",
       "    </tr>\n",
       "  </thead>\n",
       "  <tbody>\n",
       "    <tr>\n",
       "      <td>0</td>\n",
       "      <td>0.191854</td>\n",
       "      <td>0.212393</td>\n",
       "      <td>0.928378</td>\n",
       "      <td>7:03:47</td>\n",
       "    </tr>\n",
       "    <tr>\n",
       "      <td>1</td>\n",
       "      <td>0.146243</td>\n",
       "      <td>0.188444</td>\n",
       "      <td>0.934280</td>\n",
       "      <td>6:26:32</td>\n",
       "    </tr>\n",
       "  </tbody>\n",
       "</table>"
      ],
      "text/plain": [
       "<IPython.core.display.HTML object>"
      ]
     },
     "metadata": {},
     "output_type": "display_data"
    }
   ],
   "source": [
    "# the actual training of the model. In this test run the number of epochs is 2\n",
    "pointcnn.fit(2)"
   ]
  },
  {
   "cell_type": "code",
   "execution_count": 2,
   "metadata": {},
   "outputs": [
    {
     "ename": "NameError",
     "evalue": "name 'pointcnn' is not defined",
     "output_type": "error",
     "traceback": [
      "\u001b[1;31m---------------------------------------------------------------------------\u001b[0m",
      "\u001b[1;31mNameError\u001b[0m                                 Traceback (most recent call last)",
      "\u001b[1;32m<ipython-input-2-784e287b031b>\u001b[0m in \u001b[0;36m<module>\u001b[1;34m\u001b[0m\n\u001b[0;32m      3\u001b[0m \u001b[0mpred\u001b[0m \u001b[1;33m=\u001b[0m \u001b[1;34mr'D:\\Rens\\utrecht_test_model2\\pred'\u001b[0m\u001b[1;33m\u001b[0m\u001b[1;33m\u001b[0m\u001b[0m\n\u001b[0;32m      4\u001b[0m \u001b[0moutput\u001b[0m \u001b[1;33m=\u001b[0m \u001b[1;34mr'D:\\Rens\\utrecht_test_model2\\results'\u001b[0m\u001b[1;33m\u001b[0m\u001b[1;33m\u001b[0m\u001b[0m\n\u001b[1;32m----> 5\u001b[1;33m \u001b[0mpointcnn\u001b[0m\u001b[1;33m.\u001b[0m\u001b[0mpredict_las\u001b[0m\u001b[1;33m(\u001b[0m\u001b[0mpath\u001b[0m\u001b[1;33m=\u001b[0m\u001b[0mpred\u001b[0m\u001b[1;33m,\u001b[0m \u001b[0moutput_path\u001b[0m\u001b[1;33m=\u001b[0m\u001b[0moutput\u001b[0m\u001b[1;33m)\u001b[0m\u001b[1;33m\u001b[0m\u001b[1;33m\u001b[0m\u001b[0m\n\u001b[0m",
      "\u001b[1;31mNameError\u001b[0m: name 'pointcnn' is not defined"
     ]
    }
   ],
   "source": [
    "# pred is the path to the folder containg the .las files on which predictions should be made\n",
    "# output is the path to an empty folder where the predicted las files shuld be stored\n",
    "# the predict_las method is used to predict the classification of the point clouds, you can ignore the error\n",
    "pred = r'D:\\Rens\\utrecht_test_model2\\pred' \n",
    "output = r'D:\\Rens\\utrecht_test_model2\\results'\n",
    "pointcnn.predict_las(path=pred, output_path=output)"
   ]
  },
  {
   "cell_type": "code",
   "execution_count": 8,
   "metadata": {},
   "outputs": [
    {
     "data": {
      "text/plain": [
       "WindowsPath('D:/Rens/utrecht_test_model/models/utrecht_test')"
      ]
     },
     "execution_count": 8,
     "metadata": {},
     "output_type": "execute_result"
    }
   ],
   "source": [
    "# the save method is used to save the model for further use\n",
    "pointcnn.save('utrecht_test')"
   ]
  },
  {
   "cell_type": "code",
   "execution_count": 9,
   "metadata": {},
   "outputs": [
    {
     "data": {
      "text/html": [
       "<div>\n",
       "<style scoped>\n",
       "    .dataframe tbody tr th:only-of-type {\n",
       "        vertical-align: middle;\n",
       "    }\n",
       "\n",
       "    .dataframe tbody tr th {\n",
       "        vertical-align: top;\n",
       "    }\n",
       "\n",
       "    .dataframe thead th {\n",
       "        text-align: right;\n",
       "    }\n",
       "</style>\n",
       "<table border=\"1\" class=\"dataframe\">\n",
       "  <thead>\n",
       "    <tr style=\"text-align: right;\">\n",
       "      <th></th>\n",
       "      <th>1</th>\n",
       "      <th>2</th>\n",
       "      <th>6</th>\n",
       "      <th>9</th>\n",
       "      <th>26</th>\n",
       "    </tr>\n",
       "  </thead>\n",
       "  <tbody>\n",
       "    <tr>\n",
       "      <th>precision</th>\n",
       "      <td>0.954959</td>\n",
       "      <td>0.954361</td>\n",
       "      <td>0.849970</td>\n",
       "      <td>0.811716</td>\n",
       "      <td>0.563140</td>\n",
       "    </tr>\n",
       "    <tr>\n",
       "      <th>recall</th>\n",
       "      <td>0.906843</td>\n",
       "      <td>0.981093</td>\n",
       "      <td>0.929082</td>\n",
       "      <td>0.034943</td>\n",
       "      <td>0.002160</td>\n",
       "    </tr>\n",
       "    <tr>\n",
       "      <th>f1_score</th>\n",
       "      <td>0.930279</td>\n",
       "      <td>0.967543</td>\n",
       "      <td>0.887767</td>\n",
       "      <td>0.067002</td>\n",
       "      <td>0.004304</td>\n",
       "    </tr>\n",
       "  </tbody>\n",
       "</table>\n",
       "</div>"
      ],
      "text/plain": [
       "                 1         2         6         9         26\n",
       "precision  0.954959  0.954361  0.849970  0.811716  0.563140\n",
       "recall     0.906843  0.981093  0.929082  0.034943  0.002160\n",
       "f1_score   0.930279  0.967543  0.887767  0.067002  0.004304"
      ]
     },
     "execution_count": 9,
     "metadata": {},
     "output_type": "execute_result"
    }
   ],
   "source": [
    "# the compute_precision_recall method is employed to receive performance quantifictions that were calculated on the validation dataset\n",
    "pointcnn.compute_precision_recall()"
   ]
  }
 ],
 "metadata": {
  "kernelspec": {
   "display_name": "Python 3",
   "language": "python",
   "name": "python3"
  },
  "language_info": {
   "codemirror_mode": {
    "name": "ipython",
    "version": 3
   },
   "file_extension": ".py",
   "mimetype": "text/x-python",
   "name": "python",
   "nbconvert_exporter": "python",
   "pygments_lexer": "ipython3",
   "version": "3.6.10"
  }
 },
 "nbformat": 4,
 "nbformat_minor": 4
}
